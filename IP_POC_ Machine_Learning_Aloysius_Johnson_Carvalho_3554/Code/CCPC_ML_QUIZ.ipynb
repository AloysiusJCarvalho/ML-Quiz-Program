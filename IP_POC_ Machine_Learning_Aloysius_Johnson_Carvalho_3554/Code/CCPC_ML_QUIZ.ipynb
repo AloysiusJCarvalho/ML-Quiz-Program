{
  "nbformat": 4,
  "nbformat_minor": 0,
  "metadata": {
    "colab": {
      "name": "CCPC_ML_QUIZ.ipynb",
      "provenance": [],
      "collapsed_sections": []
    },
    "kernelspec": {
      "display_name": "Python 3",
      "name": "python3"
    }
  },
  "cells": [
    {
      "cell_type": "code",
      "metadata": {
        "id": "TBXh_E_JrumJ"
      },
      "source": [
        "import pandas as pd\n",
        "import numpy as np\n",
        "import matplotlib.pyplot as plt\n",
        "data = pd.read_csv(\"test.csv\")\n",
        "df = pd.read_csv(\"Final_Quiz_Dataset.csv\")"
      ],
      "execution_count": 1,
      "outputs": []
    },
    {
      "cell_type": "code",
      "metadata": {
        "colab": {
          "base_uri": "https://localhost:8080/",
          "height": 297
        },
        "id": "0diBDkemrxjz",
        "outputId": "92d5abda-e542-4673-c392-731f9913b318"
      },
      "source": [
        "data"
      ],
      "execution_count": 2,
      "outputs": [
        {
          "output_type": "execute_result",
          "data": {
            "text/html": [
              "<div>\n",
              "<style scoped>\n",
              "    .dataframe tbody tr th:only-of-type {\n",
              "        vertical-align: middle;\n",
              "    }\n",
              "\n",
              "    .dataframe tbody tr th {\n",
              "        vertical-align: top;\n",
              "    }\n",
              "\n",
              "    .dataframe thead th {\n",
              "        text-align: right;\n",
              "    }\n",
              "</style>\n",
              "<table border=\"1\" class=\"dataframe\">\n",
              "  <thead>\n",
              "    <tr style=\"text-align: right;\">\n",
              "      <th></th>\n",
              "      <th>Difficulty_Level</th>\n",
              "      <th>points</th>\n",
              "      <th>score</th>\n",
              "      <th>level_decision</th>\n",
              "    </tr>\n",
              "  </thead>\n",
              "  <tbody>\n",
              "    <tr>\n",
              "      <th>0</th>\n",
              "      <td>1</td>\n",
              "      <td>1</td>\n",
              "      <td>1</td>\n",
              "      <td>2</td>\n",
              "    </tr>\n",
              "    <tr>\n",
              "      <th>1</th>\n",
              "      <td>1</td>\n",
              "      <td>1</td>\n",
              "      <td>0</td>\n",
              "      <td>1</td>\n",
              "    </tr>\n",
              "    <tr>\n",
              "      <th>2</th>\n",
              "      <td>2</td>\n",
              "      <td>1</td>\n",
              "      <td>2</td>\n",
              "      <td>3</td>\n",
              "    </tr>\n",
              "    <tr>\n",
              "      <th>3</th>\n",
              "      <td>2</td>\n",
              "      <td>1</td>\n",
              "      <td>0</td>\n",
              "      <td>1</td>\n",
              "    </tr>\n",
              "    <tr>\n",
              "      <th>4</th>\n",
              "      <td>3</td>\n",
              "      <td>1</td>\n",
              "      <td>3</td>\n",
              "      <td>4</td>\n",
              "    </tr>\n",
              "    <tr>\n",
              "      <th>5</th>\n",
              "      <td>3</td>\n",
              "      <td>1</td>\n",
              "      <td>1</td>\n",
              "      <td>2</td>\n",
              "    </tr>\n",
              "    <tr>\n",
              "      <th>6</th>\n",
              "      <td>4</td>\n",
              "      <td>1</td>\n",
              "      <td>4</td>\n",
              "      <td>5</td>\n",
              "    </tr>\n",
              "    <tr>\n",
              "      <th>7</th>\n",
              "      <td>4</td>\n",
              "      <td>1</td>\n",
              "      <td>2</td>\n",
              "      <td>3</td>\n",
              "    </tr>\n",
              "  </tbody>\n",
              "</table>\n",
              "</div>"
            ],
            "text/plain": [
              "   Difficulty_Level  points  score  level_decision\n",
              "0                 1       1      1               2\n",
              "1                 1       1      0               1\n",
              "2                 2       1      2               3\n",
              "3                 2       1      0               1\n",
              "4                 3       1      3               4\n",
              "5                 3       1      1               2\n",
              "6                 4       1      4               5\n",
              "7                 4       1      2               3"
            ]
          },
          "metadata": {
            "tags": []
          },
          "execution_count": 2
        }
      ]
    },
    {
      "cell_type": "code",
      "metadata": {
        "id": "-SZfj6qCj3n8",
        "colab": {
          "base_uri": "https://localhost:8080/",
          "height": 241
        },
        "outputId": "55bb1e91-1617-4310-d82e-259e6b26565a"
      },
      "source": [
        "df"
      ],
      "execution_count": 3,
      "outputs": [
        {
          "output_type": "execute_result",
          "data": {
            "text/html": [
              "<div>\n",
              "<style scoped>\n",
              "    .dataframe tbody tr th:only-of-type {\n",
              "        vertical-align: middle;\n",
              "    }\n",
              "\n",
              "    .dataframe tbody tr th {\n",
              "        vertical-align: top;\n",
              "    }\n",
              "\n",
              "    .dataframe thead th {\n",
              "        text-align: right;\n",
              "    }\n",
              "</style>\n",
              "<table border=\"1\" class=\"dataframe\">\n",
              "  <thead>\n",
              "    <tr style=\"text-align: right;\">\n",
              "      <th></th>\n",
              "      <th>Difficulty_Level</th>\n",
              "      <th>Question</th>\n",
              "      <th>Option 1</th>\n",
              "      <th>Option 2</th>\n",
              "      <th>Option 3</th>\n",
              "      <th>Option 4</th>\n",
              "      <th>Answers</th>\n",
              "    </tr>\n",
              "  </thead>\n",
              "  <tbody>\n",
              "    <tr>\n",
              "      <th>0</th>\n",
              "      <td>1</td>\n",
              "      <td>The language spoken by the people of Pakistan ...</td>\n",
              "      <td>Hindi</td>\n",
              "      <td>Palauan</td>\n",
              "      <td>Sindhi</td>\n",
              "      <td>Nauruan</td>\n",
              "      <td>3</td>\n",
              "    </tr>\n",
              "    <tr>\n",
              "      <th>1</th>\n",
              "      <td>2</td>\n",
              "      <td>The metal whose salts are sensitive to light is ?</td>\n",
              "      <td>Zinc</td>\n",
              "      <td>Silver</td>\n",
              "      <td>Copper</td>\n",
              "      <td>Aluminium</td>\n",
              "      <td>2</td>\n",
              "    </tr>\n",
              "    <tr>\n",
              "      <th>2</th>\n",
              "      <td>3</td>\n",
              "      <td>Hitler party which came into power in 1933 is ...</td>\n",
              "      <td>Labour Party</td>\n",
              "      <td>Nazi Party</td>\n",
              "      <td>Ku-Klux-Klan</td>\n",
              "      <td>Democratic Party</td>\n",
              "      <td>2</td>\n",
              "    </tr>\n",
              "    <tr>\n",
              "      <th>3</th>\n",
              "      <td>4</td>\n",
              "      <td>Galileo was an Italian astronomer who</td>\n",
              "      <td>developed the telescope</td>\n",
              "      <td>discovered four satellites of Jupiter</td>\n",
              "      <td>discovered that the movement of pendulum produ...</td>\n",
              "      <td>All of the above</td>\n",
              "      <td>4</td>\n",
              "    </tr>\n",
              "  </tbody>\n",
              "</table>\n",
              "</div>"
            ],
            "text/plain": [
              "   Difficulty_Level  ... Answers\n",
              "0                 1  ...       3\n",
              "1                 2  ...       2\n",
              "2                 3  ...       2\n",
              "3                 4  ...       4\n",
              "\n",
              "[4 rows x 7 columns]"
            ]
          },
          "metadata": {
            "tags": []
          },
          "execution_count": 3
        }
      ]
    },
    {
      "cell_type": "code",
      "metadata": {
        "id": "eJINMDA4s6I0"
      },
      "source": [
        "x = data.iloc[:,:-1].values.astype(int)"
      ],
      "execution_count": 4,
      "outputs": []
    },
    {
      "cell_type": "code",
      "metadata": {
        "id": "Iixyxp6ls9IL"
      },
      "source": [
        "y = data.iloc[:,-1].values.astype(int)"
      ],
      "execution_count": 5,
      "outputs": []
    },
    {
      "cell_type": "code",
      "metadata": {
        "id": "orj_AlW9s_U6"
      },
      "source": [
        "from sklearn.model_selection import train_test_split\n",
        "x_train,y_train,x_test,y_test = train_test_split(x,y,test_size=0.2,random_state=0)"
      ],
      "execution_count": 6,
      "outputs": []
    },
    {
      "cell_type": "code",
      "metadata": {
        "colab": {
          "base_uri": "https://localhost:8080/"
        },
        "id": "jBcarnYdLmsK",
        "outputId": "fd165cb3-c218-4d60-8f45-b3cfaf464c74"
      },
      "source": [
        "from sklearn.svm import SVR\n",
        "regressor = SVR(kernel = 'linear')\n",
        "regressor.fit(x,y)"
      ],
      "execution_count": 7,
      "outputs": [
        {
          "output_type": "execute_result",
          "data": {
            "text/plain": [
              "SVR(C=1.0, cache_size=200, coef0=0.0, degree=3, epsilon=0.1, gamma='scale',\n",
              "    kernel='linear', max_iter=-1, shrinking=True, tol=0.001, verbose=False)"
            ]
          },
          "metadata": {
            "tags": []
          },
          "execution_count": 7
        }
      ]
    },
    {
      "cell_type": "code",
      "metadata": {
        "id": "d0M_yGwwQMeH",
        "colab": {
          "base_uri": "https://localhost:8080/"
        },
        "outputId": "1f18797f-900a-4faa-c709-a90ab9b6506f"
      },
      "source": [
        "for i,j,k in x:\n",
        "  predict = regressor.predict([[i,j,k]]).round().astype(int)\n",
        "  print('difficulty_level{} --> score{} --> predict_level_decision{}'.format(i,k,predict))"
      ],
      "execution_count": 8,
      "outputs": [
        {
          "output_type": "stream",
          "text": [
            "difficulty_level1 --> score1 --> predict_level_decision[2]\n",
            "difficulty_level1 --> score0 --> predict_level_decision[1]\n",
            "difficulty_level2 --> score2 --> predict_level_decision[3]\n",
            "difficulty_level2 --> score0 --> predict_level_decision[1]\n",
            "difficulty_level3 --> score3 --> predict_level_decision[4]\n",
            "difficulty_level3 --> score1 --> predict_level_decision[2]\n",
            "difficulty_level4 --> score4 --> predict_level_decision[5]\n",
            "difficulty_level4 --> score2 --> predict_level_decision[3]\n"
          ],
          "name": "stdout"
        }
      ]
    },
    {
      "cell_type": "markdown",
      "metadata": {
        "id": "MsHvLY-hP_P4"
      },
      "source": [
        "User Input"
      ]
    },
    {
      "cell_type": "markdown",
      "metadata": {
        "id": "9k3yawD7yL8u"
      },
      "source": [
        "Difficulty level 4"
      ]
    },
    {
      "cell_type": "code",
      "metadata": {
        "id": "6HjgqXAeyUdY"
      },
      "source": [
        "def very_difficult(score):\n",
        "  very_difficult = df[df['Difficulty_Level'] == 4]\n",
        "  very_difficult_quest = very_difficult.sample()\n",
        "  question = very_difficult_quest[\"Question\"]\n",
        "  opt1 =  very_difficult_quest[\"Option 1\"]\n",
        "  opt2 =  very_difficult_quest[\"Option 2\"]\n",
        "  opt3 =  very_difficult_quest[\"Option 3\"]\n",
        "  opt4 =  very_difficult_quest[\"Option 4\"]\n",
        "  print(\"Question:\" + question.to_string(index = True)+\"\\n\")\n",
        "  diff_level = very_difficult_quest.loc[:,'Difficulty_Level']\n",
        "  print(\"score:\" + str(score))\n",
        "  print(\"Difficulty Level:\" + diff_level.to_string(index = False)+ \"\\n\")\n",
        "  print(\"Option 1:\"+opt1.to_string(index = False)+\"\\nOption 2:\"+opt2.to_string(index = False)+\"\\nOption 3:\"+opt3.to_string(index = False)+\"\\nOption 4:\"+opt4.to_string(index = False))\n",
        "  actual_answer3 = int(very_difficult_quest[\"Answers\"])\n",
        "  answer3 = int(input(\"your answer is:\"))\n",
        "  if actual_answer3 == answer3:\n",
        "      print(\"your answer is correct\" +\"\\n\")\n",
        "      score=score+1\n",
        "      output = regressor.predict([[i,j,score]]).round().astype(int)\n",
        "      print('score:'+ str(score) +\"\\n\")\n",
        "      if output == 1:\n",
        "        easy(score)\n",
        "      elif output == 2:\n",
        "        medium(score)\n",
        "      elif output == 3:\n",
        "        difficult(score)\n",
        "      elif output == 4:\n",
        "        print('QUIZ OVER')\n",
        "      elif output == 5:\n",
        "        print('CONGRATULATIONS! YOU HAVE COMPLETED THE APTITUDE TEST')\n",
        "  else:\n",
        "      score=score-1\n",
        "      print('score:',score)\n",
        "      output = regressor.predict([[i,j,score]]).round().astype(int)\n",
        "      print(\"your answer is wrong\")\n",
        "      print('The Next Difficulty Level is' ,output)\n",
        "      difficult(score)"
      ],
      "execution_count": 9,
      "outputs": []
    },
    {
      "cell_type": "markdown",
      "metadata": {
        "id": "QfzbFc4juc1G"
      },
      "source": [
        "Difficulty level 3"
      ]
    },
    {
      "cell_type": "code",
      "metadata": {
        "id": "cExKt6a3ubwu"
      },
      "source": [
        "def difficult(score):\n",
        "  difficult = df[df['Difficulty_Level'] == 3]\n",
        "  difficult_quest = difficult.sample()\n",
        "  question = difficult_quest[\"Question\"]\n",
        "  opt1 =  difficult_quest[\"Option 1\"]\n",
        "  opt2 =  difficult_quest[\"Option 2\"]\n",
        "  opt3 =  difficult_quest[\"Option 3\"]\n",
        "  opt4 =  difficult_quest[\"Option 4\"]\n",
        "  print(\"Question:\" + question.to_string(index = True)+\"\\n\")\n",
        "  diff_level = difficult_quest.loc[:,'Difficulty_Level']\n",
        "  print(\"score:\" + str(score))\n",
        "  print(\"Difficulty Level:\" + diff_level.to_string(index = False)+ \"\\n\")\n",
        "  print(\"Option 1:\"+opt1.to_string(index = False)+\"\\nOption 2:\"+opt2.to_string(index = False)+\"\\nOption 3:\"+opt3.to_string(index = False)+\"\\nOption 4:\"+opt4.to_string(index = False))\n",
        "  actual_answer2 = int(difficult_quest[\"Answers\"])\n",
        "  answer2 = int(input(\"your answer is:\"))\n",
        "  if actual_answer2 == answer2:\n",
        "      print(\"your answer is correct\" +\"\\n\")\n",
        "      score=score+1\n",
        "      output = regressor.predict([[i,j,score]]).round().astype(int)\n",
        "      print('score:'+ str(score) +\"\\n\")\n",
        "      print('The Next Difficulty Level is' ,output)\n",
        "      if output == 1:\n",
        "        easy(score)\n",
        "      elif output == 2:\n",
        "        medium(score)\n",
        "      elif output == 3:\n",
        "        print('The predicted level is incorrect')\n",
        "      elif output == 4:\n",
        "        very_difficult(score)\n",
        "  else:\n",
        "      score=score-1\n",
        "      print('score:',score)\n",
        "      output = regressor.predict([[i,j,score]]).round().astype(int)\n",
        "      print(\"your answer is wrong\")\n",
        "      print('The Next Difficulty Level is' ,output)\n",
        "      if output == 1:\n",
        "        easy()\n",
        "      elif output == 2:\n",
        "        medium(score)\n",
        "      elif output == 3:\n",
        "        print('The predicted level is incorrect')\n",
        "      elif output == 4:\n",
        "        very_difficult(score)"
      ],
      "execution_count": 10,
      "outputs": []
    },
    {
      "cell_type": "markdown",
      "metadata": {
        "id": "TyLlCoy2oLUi"
      },
      "source": [
        "Difficulty level 2"
      ]
    },
    {
      "cell_type": "code",
      "metadata": {
        "id": "vWOb6DTWoKgh"
      },
      "source": [
        "def medium(score):\n",
        "  medium = df[df['Difficulty_Level'] == 2]\n",
        "  medium_quest = medium.sample()\n",
        "  question = medium_quest[\"Question\"]\n",
        "  opt1 =  medium_quest[\"Option 1\"]\n",
        "  opt2 =  medium_quest[\"Option 2\"]\n",
        "  opt3 =  medium_quest[\"Option 3\"]\n",
        "  opt4 =  medium_quest[\"Option 4\"]\n",
        "  print(\"Question:\" + question.to_string(index = True)+\"\\n\")\n",
        "  diff_level = medium_quest.loc[:,'Difficulty_Level']\n",
        "  print(\"score:\" + str(score))\n",
        "  print(\"Difficulty Level:\" + diff_level.to_string(index = False)+ \"\\n\")\n",
        "  print(\"Option 1:\"+opt1.to_string(index = False)+\"\\nOption 2:\"+opt2.to_string(index = False)+\"\\nOption 3:\"+opt3.to_string(index = False)+\"\\nOption 4:\"+opt4.to_string(index = False))\n",
        "  actual_answer1 = int(medium_quest[\"Answers\"])\n",
        "  answer1 = int(input(\"your answer is:\"))\n",
        "  if actual_answer1 == answer1:\n",
        "      print(\"your answer is correct\" +\"\\n\")\n",
        "      score=score+1\n",
        "      output = regressor.predict([[i,j,score]]).round().astype(int)\n",
        "      print('score:'+ str(score) +\"\\n\")\n",
        "      print('The Next Difficulty Level is' ,output)\n",
        "      if output == 1:\n",
        "        easy(score)\n",
        "      elif output == 2:\n",
        "        print('The predicted level is incorrect')\n",
        "      elif output == 3:\n",
        "        difficult(score)\n",
        "      elif output == 4:\n",
        "        very_difficult(score)\n",
        "  else:\n",
        "      score=score-1\n",
        "      print('score:',score)\n",
        "      output = regressor.predict([[i,j,score]]).round().astype(int)\n",
        "      print(\"your answer is wrong\")\n",
        "      print('The Next Difficulty Level is' ,output)\n",
        "      if output == 1:\n",
        "        easy()\n",
        "      elif output == 2:\n",
        "        print('The predicted level is incorrect')\n",
        "      elif output == 3:\n",
        "        difficult(score)\n",
        "      elif output == 4:\n",
        "        very_difficult(score)"
      ],
      "execution_count": 11,
      "outputs": []
    },
    {
      "cell_type": "markdown",
      "metadata": {
        "id": "ubeMg9qSP56w"
      },
      "source": [
        "Difficulty level 1"
      ]
    },
    {
      "cell_type": "code",
      "metadata": {
        "id": "gTT80TgwlcA8"
      },
      "source": [
        "def easy():\n",
        "  easy = df[df['Difficulty_Level'] == 1]\n",
        "  easy_quest = easy.sample()\n",
        "  question = easy_quest[\"Question\"]\n",
        "  opt1 =  easy_quest[\"Option 1\"]\n",
        "  opt2 =  easy_quest[\"Option 2\"]\n",
        "  opt3 =  easy_quest[\"Option 3\"]\n",
        "  opt4 =  easy_quest[\"Option 4\"]\n",
        "  print(\"Question:\" + question.to_string(index = True)+\"\\n\")\n",
        "  diff_level = easy_quest.loc[:,'Difficulty_Level']\n",
        "  score = 0\n",
        "  print(\"score:\" + str(score))\n",
        "  print(\"Difficulty Level:\" + diff_level.to_string(index = False)+ \"\\n\")\n",
        "  print(\"Option 1:\"+opt1.to_string(index = False)+\"\\nOption 2:\"+opt2.to_string(index = False)+\"\\nOption 3:\"+opt3.to_string(index = False)+\"\\nOption 4:\"+opt4.to_string(index = False))\n",
        "  actual_answer = int(easy_quest[\"Answers\"])\n",
        "  answer = int(input(\"your answer is:\"))\n",
        "  \n",
        "  if actual_answer == answer:\n",
        "      print(\"your answer is correct\" +\"\\n\")\n",
        "      score=score+1\n",
        "      output = regressor.predict([[i,j,score]]).round().astype(int)\n",
        "      print('score:'+ str(score) +\"\\n\")\n",
        "      print('The Next Difficulty Level is' ,output)\n",
        "      if output == 1:\n",
        "        print('The predicted level is incorrect')\n",
        "      elif output == 2:\n",
        "        medium(score)\n",
        "      elif output == 3:\n",
        "        difficult(score)\n",
        "      elif output == 4:\n",
        "        very_difficult(score)  \n",
        "       \n",
        "  else:\n",
        "      print(\"your answer is wrong\")\n",
        "      print('score:',score)\n",
        "      output = regressor.predict([[i,j,score]]).round().astype(int)\n",
        "      print('The Next Difficulty Level is' ,output)\n",
        "      if output == 1:\n",
        "        print('Please restart the quiz')\n",
        "      elif output == 2:\n",
        "        medium(score)\n",
        "      elif output == 3:\n",
        "        difficult(score)\n",
        "      elif output == 4:\n",
        "        very_difficult(score)           "
      ],
      "execution_count": 12,
      "outputs": []
    },
    {
      "cell_type": "code",
      "metadata": {
        "id": "ZAgrhsRwmqpa",
        "colab": {
          "base_uri": "https://localhost:8080/"
        },
        "outputId": "019b3240-9ce5-4185-f9cb-e8717d33c203"
      },
      "source": [
        "easy()"
      ],
      "execution_count": 13,
      "outputs": [
        {
          "output_type": "stream",
          "text": [
            "Question:0    The language spoken by the people of Pakistan ...\n",
            "\n",
            "score:0\n",
            "Difficulty Level: 1\n",
            "\n",
            "Option 1: Hindi\n",
            "Option 2: Palauan\n",
            "Option 3: Sindhi\n",
            "Option 4: Nauruan\n",
            "your answer is:3\n",
            "your answer is correct\n",
            "\n",
            "score:1\n",
            "\n",
            "The Next Difficulty Level is [2]\n",
            "Question:1    The metal whose salts are sensitive to light is ?\n",
            "\n",
            "score:1\n",
            "Difficulty Level: 2\n",
            "\n",
            "Option 1: Zinc\n",
            "Option 2: Silver\n",
            "Option 3: Copper\n",
            "Option 4: Aluminium\n",
            "your answer is:2\n",
            "your answer is correct\n",
            "\n",
            "score:2\n",
            "\n",
            "The Next Difficulty Level is [3]\n",
            "Question:2    Hitler party which came into power in 1933 is ...\n",
            "\n",
            "score:2\n",
            "Difficulty Level: 3\n",
            "\n",
            "Option 1: Labour Party\n",
            "Option 2: Nazi Party\n",
            "Option 3: Ku-Klux-Klan\n",
            "Option 4: Democratic Party\n",
            "your answer is:2\n",
            "your answer is correct\n",
            "\n",
            "score:3\n",
            "\n",
            "The Next Difficulty Level is [4]\n",
            "Question:3    Galileo was an Italian astronomer who\n",
            "\n",
            "score:3\n",
            "Difficulty Level: 4\n",
            "\n",
            "Option 1: developed the telescope\n",
            "Option 2: discovered four satellites of Jupiter\n",
            "Option 3: discovered that the movement of pendulum produ...\n",
            "Option 4: All of the above\n",
            "your answer is:4\n",
            "your answer is correct\n",
            "\n",
            "score:4\n",
            "\n",
            "CONGRATULATIONS! YOU HAVE COMPLETED THE APTITUDE TEST\n"
          ],
          "name": "stdout"
        }
      ]
    },
    {
      "cell_type": "code",
      "metadata": {
        "id": "T11SVHoR9B0Q"
      },
      "source": [
        ""
      ],
      "execution_count": 13,
      "outputs": []
    }
  ]
}